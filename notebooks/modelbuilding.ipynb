{
 "cells": [
  {
   "cell_type": "code",
   "execution_count": 1,
   "id": "9275b5e6",
   "metadata": {},
   "outputs": [],
   "source": [
    "import pandas as pd"
   ]
  },
  {
   "cell_type": "code",
   "execution_count": 2,
   "id": "68dd245e",
   "metadata": {},
   "outputs": [],
   "source": [
    "x = pd.read_csv(r'C:\\Users\\ASHWINI\\OneDrive - ATCS\\Desktop\\ML Project\\Data\\preprocessdata\\x.csv')"
   ]
  },
  {
   "cell_type": "code",
   "execution_count": 5,
   "id": "27260c13",
   "metadata": {},
   "outputs": [],
   "source": [
    "y = pd.read_csv(r'C:\\Users\\ASHWINI\\OneDrive - ATCS\\Desktop\\ML Project\\Data\\preprocessdata\\y.csv')"
   ]
  },
  {
   "cell_type": "code",
   "execution_count": 6,
   "id": "0602b734",
   "metadata": {},
   "outputs": [],
   "source": [
    "from sklearn.preprocessing import StandardScaler\n",
    "from sklearn.model_selection import train_test_split"
   ]
  },
  {
   "cell_type": "code",
   "execution_count": 7,
   "id": "0bfe956d",
   "metadata": {},
   "outputs": [],
   "source": [
    "x_train, x_test, y_train, y_test = train_test_split(x,y,random_state=42,test_size=.3,stratify=y)"
   ]
  },
  {
   "cell_type": "code",
   "execution_count": 8,
   "id": "5686ad9c",
   "metadata": {},
   "outputs": [
    {
     "data": {
      "text/plain": [
       "((32709, 23), (32709, 1))"
      ]
     },
     "execution_count": 8,
     "metadata": {},
     "output_type": "execute_result"
    }
   ],
   "source": [
    "x_train.shape, y_train.shape"
   ]
  },
  {
   "cell_type": "code",
   "execution_count": 9,
   "id": "1be4b555",
   "metadata": {},
   "outputs": [],
   "source": [
    "scaler = StandardScaler()\n",
    "x_train_scaled = scaler.fit_transform(x_train)\n",
    "x_test_scaled = scaler.transform(x_test)"
   ]
  },
  {
   "cell_type": "code",
   "execution_count": 11,
   "id": "e718aebc",
   "metadata": {},
   "outputs": [
    {
     "name": "stderr",
     "output_type": "stream",
     "text": [
      "c:\\Users\\ASHWINI\\OneDrive - ATCS\\Desktop\\ML Project\\venv\\Lib\\site-packages\\sklearn\\utils\\validation.py:1408: DataConversionWarning: A column-vector y was passed when a 1d array was expected. Please change the shape of y to (n_samples, ), for example using ravel().\n",
      "  y = column_or_1d(y, warn=True)\n"
     ]
    },
    {
     "name": "stdout",
     "output_type": "stream",
     "text": [
      "              precision    recall  f1-score   support\n",
      "\n",
      "           0       0.72      0.72      0.72      7010\n",
      "           1       0.72      0.72      0.72      7009\n",
      "\n",
      "    accuracy                           0.72     14019\n",
      "   macro avg       0.72      0.72      0.72     14019\n",
      "weighted avg       0.72      0.72      0.72     14019\n",
      "\n"
     ]
    }
   ],
   "source": [
    "from sklearn.linear_model import LogisticRegression\n",
    "lr = LogisticRegression()\n",
    "lr.fit(x_train_scaled,y_train)\n",
    "predict = lr.predict(x_test_scaled)\n",
    "from sklearn.metrics import classification_report\n",
    "print(classification_report(y_test,predict))"
   ]
  },
  {
   "cell_type": "code",
   "execution_count": 25,
   "id": "e21ed920",
   "metadata": {},
   "outputs": [
    {
     "name": "stdout",
     "output_type": "stream",
     "text": [
      "              precision    recall  f1-score   support\n",
      "\n",
      "           0       0.76      0.73      0.74      7010\n",
      "           1       0.74      0.77      0.75      7009\n",
      "\n",
      "    accuracy                           0.75     14019\n",
      "   macro avg       0.75      0.75      0.75     14019\n",
      "weighted avg       0.75      0.75      0.75     14019\n",
      "\n"
     ]
    }
   ],
   "source": [
    "from sklearn.tree import DecisionTreeClassifier\n",
    "Dt = DecisionTreeClassifier()\n",
    "Dt.fit(x_train_scaled,y_train)\n",
    "predict = Dt.predict(x_test_scaled)\n",
    "from sklearn.metrics import classification_report\n",
    "print(classification_report(y_test,predict))"
   ]
  },
  {
   "cell_type": "code",
   "execution_count": 24,
   "id": "5693bb48",
   "metadata": {},
   "outputs": [
    {
     "name": "stderr",
     "output_type": "stream",
     "text": [
      "c:\\Users\\ASHWINI\\OneDrive - ATCS\\Desktop\\ML Project\\venv\\Lib\\site-packages\\sklearn\\base.py:1389: DataConversionWarning: A column-vector y was passed when a 1d array was expected. Please change the shape of y to (n_samples,), for example using ravel().\n",
      "  return fit_method(estimator, *args, **kwargs)\n"
     ]
    },
    {
     "name": "stdout",
     "output_type": "stream",
     "text": [
      "              precision    recall  f1-score   support\n",
      "\n",
      "           0       0.83      0.86      0.84      7010\n",
      "           1       0.86      0.82      0.84      7009\n",
      "\n",
      "    accuracy                           0.84     14019\n",
      "   macro avg       0.84      0.84      0.84     14019\n",
      "weighted avg       0.84      0.84      0.84     14019\n",
      "\n"
     ]
    }
   ],
   "source": [
    "from sklearn.ensemble import RandomForestClassifier\n",
    "Rf = RandomForestClassifier()\n",
    "Rf.fit(x_train_scaled,y_train)\n",
    "predict = Rf.predict(x_test_scaled)\n",
    "from sklearn.metrics import classification_report\n",
    "print(classification_report(y_test,predict))"
   ]
  },
  {
   "cell_type": "code",
   "execution_count": 23,
   "id": "ecc6a529",
   "metadata": {},
   "outputs": [
    {
     "name": "stderr",
     "output_type": "stream",
     "text": [
      "c:\\Users\\ASHWINI\\OneDrive - ATCS\\Desktop\\ML Project\\venv\\Lib\\site-packages\\sklearn\\utils\\validation.py:1408: DataConversionWarning: A column-vector y was passed when a 1d array was expected. Please change the shape of y to (n_samples, ), for example using ravel().\n",
      "  y = column_or_1d(y, warn=True)\n"
     ]
    },
    {
     "name": "stdout",
     "output_type": "stream",
     "text": [
      "              precision    recall  f1-score   support\n",
      "\n",
      "           0       0.73      0.77      0.75      7010\n",
      "           1       0.76      0.72      0.74      7009\n",
      "\n",
      "    accuracy                           0.74     14019\n",
      "   macro avg       0.75      0.74      0.74     14019\n",
      "weighted avg       0.75      0.74      0.74     14019\n",
      "\n"
     ]
    }
   ],
   "source": [
    "from sklearn.ensemble import AdaBoostClassifier\n",
    "Ad = AdaBoostClassifier()\n",
    "Ad.fit(x_train_scaled,y_train)\n",
    "predict = Ad.predict(x_test_scaled)\n",
    "from sklearn.metrics import classification_report\n",
    "print(classification_report(y_test,predict))"
   ]
  },
  {
   "cell_type": "code",
   "execution_count": 26,
   "id": "c4bd3e92",
   "metadata": {},
   "outputs": [
    {
     "name": "stderr",
     "output_type": "stream",
     "text": [
      "c:\\Users\\ASHWINI\\OneDrive - ATCS\\Desktop\\ML Project\\venv\\Lib\\site-packages\\sklearn\\preprocessing\\_label.py:110: DataConversionWarning: A column-vector y was passed when a 1d array was expected. Please change the shape of y to (n_samples, ), for example using ravel().\n",
      "  y = column_or_1d(y, warn=True)\n"
     ]
    },
    {
     "name": "stdout",
     "output_type": "stream",
     "text": [
      "              precision    recall  f1-score   support\n",
      "\n",
      "           0       0.76      0.81      0.79      7010\n",
      "           1       0.80      0.75      0.77      7009\n",
      "\n",
      "    accuracy                           0.78     14019\n",
      "   macro avg       0.78      0.78      0.78     14019\n",
      "weighted avg       0.78      0.78      0.78     14019\n",
      "\n"
     ]
    }
   ],
   "source": [
    "from sklearn.ensemble import GradientBoostingClassifier\n",
    "Gdb = GradientBoostingClassifier()\n",
    "Gdb.fit(x_train_scaled,y_train)\n",
    "predict = Gdb.predict(x_test_scaled)\n",
    "from sklearn.metrics import classification_report\n",
    "print(classification_report(y_test,predict))"
   ]
  },
  {
   "cell_type": "code",
   "execution_count": 27,
   "id": "d8b379b1",
   "metadata": {},
   "outputs": [
    {
     "name": "stderr",
     "output_type": "stream",
     "text": [
      "c:\\Users\\ASHWINI\\OneDrive - ATCS\\Desktop\\ML Project\\venv\\Lib\\site-packages\\sklearn\\preprocessing\\_label.py:110: DataConversionWarning: A column-vector y was passed when a 1d array was expected. Please change the shape of y to (n_samples, ), for example using ravel().\n",
      "  y = column_or_1d(y, warn=True)\n"
     ]
    },
    {
     "name": "stdout",
     "output_type": "stream",
     "text": [
      "              precision    recall  f1-score   support\n",
      "\n",
      "           0       0.76      0.81      0.79      7010\n",
      "           1       0.80      0.75      0.77      7009\n",
      "\n",
      "    accuracy                           0.78     14019\n",
      "   macro avg       0.78      0.78      0.78     14019\n",
      "weighted avg       0.78      0.78      0.78     14019\n",
      "\n"
     ]
    }
   ],
   "source": [
    "from sklearn.svm import SVC\n",
    "svc = GradientBoostingClassifier()\n",
    "svc.fit(x_train_scaled,y_train)\n",
    "predict = svc.predict(x_test_scaled)\n",
    "from sklearn.metrics import classification_report\n",
    "print(classification_report(y_test,predict))"
   ]
  },
  {
   "cell_type": "code",
   "execution_count": 14,
   "id": "2d1e7bba",
   "metadata": {},
   "outputs": [],
   "source": [
    "import pickle"
   ]
  },
  {
   "cell_type": "code",
   "execution_count": 28,
   "id": "9a9f8015",
   "metadata": {},
   "outputs": [],
   "source": [
    "with open(r'C:\\Users\\ASHWINI\\OneDrive - ATCS\\Desktop\\ML Project\\models\\models.pkl','wb') as file:\n",
    "    pickle.dump(Rf,file)"
   ]
  },
  {
   "cell_type": "code",
   "execution_count": 31,
   "id": "d477a6ee",
   "metadata": {},
   "outputs": [],
   "source": [
    "with open(r'C:\\Users\\ASHWINI\\OneDrive - ATCS\\Desktop\\ML Project\\models\\models.pkl','rb') as file:\n",
    "    loaded_model =pickle.load(file)"
   ]
  },
  {
   "cell_type": "code",
   "execution_count": 22,
   "id": "4bd00172",
   "metadata": {},
   "outputs": [
    {
     "data": {
      "text/plain": [
       "array([0, 0, 1, ..., 0, 1, 0], shape=(14019,))"
      ]
     },
     "execution_count": 22,
     "metadata": {},
     "output_type": "execute_result"
    }
   ],
   "source": [
    "loaded_model.predict(x_test_scaled)"
   ]
  },
  {
   "cell_type": "code",
   "execution_count": null,
   "id": "e1459a85",
   "metadata": {},
   "outputs": [],
   "source": []
  }
 ],
 "metadata": {
  "kernelspec": {
   "display_name": "venv",
   "language": "python",
   "name": "python3"
  },
  "language_info": {
   "codemirror_mode": {
    "name": "ipython",
    "version": 3
   },
   "file_extension": ".py",
   "mimetype": "text/x-python",
   "name": "python",
   "nbconvert_exporter": "python",
   "pygments_lexer": "ipython3",
   "version": "3.12.0"
  }
 },
 "nbformat": 4,
 "nbformat_minor": 5
}
